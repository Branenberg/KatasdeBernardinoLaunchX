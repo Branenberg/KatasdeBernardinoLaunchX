{
 "cells": [
  {
   "cell_type": "markdown",
   "metadata": {},
   "source": [
    "# kata 03"
   ]
  },
  {
   "cell_type": "markdown",
   "metadata": {},
   "source": [
    "## Ejercicio 01\n"
   ]
  },
  {
   "cell_type": "code",
   "execution_count": 17,
   "metadata": {},
   "outputs": [
    {
     "name": "stdout",
     "output_type": "stream",
     "text": [
      "Sin posibles amenazas\n"
     ]
    }
   ],
   "source": [
    "# Añadir el código necesario para crear una variable que guarde la velocidad del asteroide.\n",
    "# Escribe una expresión de prueba para calcular si necesita una advertencia.\n",
    "# Agregue las instrucciones que se ejecutarán si la expresión de prueba es true o false.\n",
    "\n",
    "Asteroide = 49\n",
    "Limite = 25\n",
    "if Asteroide > Limite:\n",
    "    print (\"!Advertencia! Un asteroide se acerca a gran velocidad\")\n",
    "else: \n",
    "    print (\"Sin posibles amenazas\")"
   ]
  },
  {
   "cell_type": "markdown",
   "metadata": {},
   "source": [
    "## Ejercicio 02"
   ]
  },
  {
   "cell_type": "code",
   "execution_count": 24,
   "metadata": {},
   "outputs": [
    {
     "name": "stdout",
     "output_type": "stream",
     "text": [
      "Habrá una estrella fugaz\n"
     ]
    }
   ],
   "source": [
    "# Agrega el código para crear una variable para un asteroide que viaja a 19 km/s\n",
    "# Escribe varias expresiones de prueba para determinar si puedes ver el rayo de luz desde la tierra\n",
    "# Agrega las instrucciones que se ejecutarán si las expresiones de prueba son True o False\n",
    "\n",
    "Asteroide = 20\n",
    "Fugaz = 20\n",
    "if Asteroide > Fugaz:\n",
    "    print (\"¡Miren al cielo, pasará una estrella fugaz!\")\n",
    "elif Asteroide == Fugaz:\n",
    "    print (\"Habrá una estrella fugaz\")\n",
    "else:\n",
    "    print (\"Aquí no hay nada que ver :C\")"
   ]
  },
  {
   "cell_type": "markdown",
   "metadata": {},
   "source": [
    "## Ejercicio 03"
   ]
  },
  {
   "cell_type": "code",
   "execution_count": 41,
   "metadata": {},
   "outputs": [
    {
     "name": "stdout",
     "output_type": "stream",
     "text": [
      "¡PELIGRO! Meteroito Destructor de Planetas En Camino\n"
     ]
    }
   ],
   "source": [
    "# Agrega el código para crear nuevas variables para la velocidad y el tamaño del asteroide\n",
    "# Para probar el código, prueba con varias velocidades y tamaños\n",
    "# Escribe varias expresiones de prueba o combinaciones de expresiones de prueba para determinar qué mensaje se debe enviar a Tierra.\n",
    "# asteroide que es más grande que 25 metros pero más pequeña que 1000 metros golpeara la Tierra, causaría mucho daño.\n",
    "# velocidad superior a 25 kilómetros por segundo (km/s) merece una advertencia\n",
    "# velocidad mayor o igual a 20 km/s, a veces produce un rayo de luz que se puede ver desde la Tierra\n",
    "\n",
    "Tamaño_Asteroide = 500\n",
    "Velocidad_Asteroide = 25\n",
    "Limite_Diametro = 25\n",
    "Limite_Fugaz = 20\n",
    "Limite_Velocidad = 25\n",
    "\n",
    "if Tamaño_Asteroide >= Limite_Diametro and Velocidad_Asteroide >= Limite_Velocidad:\n",
    "    print (\"¡PELIGRO! Meteroito Destructor de Planetas En Camino\")\n",
    "elif Tamaño_Asteroide >= Limite_Diametro and Velocidad_Asteroide < Limite_Velocidad:\n",
    "    print (\"¡ADVERTENCIA Asteroide de gran masa se aproxima!\")\n",
    "elif Tamaño_Asteroide < Limite_Diametro and Velocidad_Asteroide >= Limite_Velocidad:\n",
    "    print (\"Advertencia: Asteroide a alta velocidad en camino\")\n",
    "elif Tamaño_Asteroide < Limite_Diametro and Velocidad_Asteroide >= Limite_Fugaz:\n",
    "    print (\"Hoy pasará una estrella fugaz\")\n",
    "else:\n",
    "    print (\"Aquí nada pasó caballeros\")\n"
   ]
  }
 ],
 "metadata": {
  "interpreter": {
   "hash": "60a5fcd371ed8e485403e2901f6bb2d97753dd4e8a3a2f4dfda94e48aa965acb"
  },
  "kernelspec": {
   "display_name": "Python 3.10.0 64-bit",
   "language": "python",
   "name": "python3"
  },
  "language_info": {
   "codemirror_mode": {
    "name": "ipython",
    "version": 3
   },
   "file_extension": ".py",
   "mimetype": "text/x-python",
   "name": "python",
   "nbconvert_exporter": "python",
   "pygments_lexer": "ipython3",
   "version": "3.10.0"
  },
  "orig_nbformat": 4
 },
 "nbformat": 4,
 "nbformat_minor": 2
}
