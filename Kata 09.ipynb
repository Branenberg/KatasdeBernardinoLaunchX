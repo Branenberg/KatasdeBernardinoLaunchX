{
 "cells": [
  {
   "cell_type": "markdown",
   "metadata": {},
   "source": [
    "# Kata 09\n"
   ]
  },
  {
   "cell_type": "markdown",
   "metadata": {},
   "source": [
    "## Ejercicio 1\n"
   ]
  },
  {
   "cell_type": "code",
   "execution_count": 17,
   "metadata": {},
   "outputs": [],
   "source": [
    "# Función para leer 3 tanques de combustible y muestre el promedio\n",
    "\n",
    "def reporte_tanques(tanque01, tanque02, tanque03):\n",
    "    promedio_total = (tanque01 + tanque02 + tanque03) / 3\n",
    "    return f\"\"\"Reporte de combustible:\n",
    "    Promedio Total : {promedio_total}%\n",
    "    Tanque 01: {tanque01}%\n",
    "    Tanque 02: {tanque02}%\n",
    "    Tanque 03: {tanque03}% \n",
    "    \"\"\""
   ]
  },
  {
   "cell_type": "code",
   "execution_count": 18,
   "metadata": {},
   "outputs": [
    {
     "name": "stdout",
     "output_type": "stream",
     "text": [
      "Reporte de combustible:\n",
      "    Promedio Total : 20.0%\n",
      "    Tanque 01: 10%\n",
      "    Tanque 02: 20%\n",
      "    Tanque 03: 30% \n",
      "    \n"
     ]
    }
   ],
   "source": [
    "# Llamamos a la función que genera el reporte print(funcion(tanque1, tanque2, tanque3))\n",
    "print(reporte_tanques(10, 20, 30))"
   ]
  },
  {
   "cell_type": "code",
   "execution_count": 32,
   "metadata": {},
   "outputs": [
    {
     "data": {
      "text/plain": [
       "50.0"
      ]
     },
     "execution_count": 32,
     "metadata": {},
     "output_type": "execute_result"
    }
   ],
   "source": [
    "# Función promedio\n",
    "def promedio(values):\n",
    "    total = sum(values)\n",
    "    tanques = len(values)\n",
    "    return total / tanques\n",
    "\n",
    "promedio([40, 50, 60]) \n"
   ]
  },
  {
   "cell_type": "code",
   "execution_count": 33,
   "metadata": {},
   "outputs": [],
   "source": [
    "\n",
    "def reporte_tanques(tanque01, tanque02, tanque03):\n",
    "    return f\"\"\"Reporte de combustible:\n",
    "    Promedio Total : {promedio([tanque01, tanque02, tanque03])}%\n",
    "    Tanque 01: {tanque01}%\n",
    "    Tanque 02: {tanque02}%\n",
    "    Tanque 03: {tanque03}% \n",
    "    \"\"\""
   ]
  },
  {
   "cell_type": "code",
   "execution_count": 31,
   "metadata": {},
   "outputs": [
    {
     "name": "stdout",
     "output_type": "stream",
     "text": [
      "Reporte de combustible:\n",
      "    Promedio Total : 56.666666666666664%\n",
      "    Tanque 01: 90%\n",
      "    Tanque 02: 30%\n",
      "    Tanque 03: 50% \n",
      "    \n"
     ]
    }
   ],
   "source": [
    "print(reporte_tanques(90, 30, 50))\n"
   ]
  },
  {
   "cell_type": "markdown",
   "metadata": {},
   "source": [
    "## Ejercicio 2"
   ]
  },
  {
   "cell_type": "code",
   "execution_count": 40,
   "metadata": {},
   "outputs": [
    {
     "name": "stdout",
     "output_type": "stream",
     "text": [
      "\n",
      "    Mision espacial a Marte\n",
      "    Tiempo total de viaje: 15 minutos\n",
      "    Combustible total: 1200000 litros\n",
      "    \n"
     ]
    }
   ],
   "source": [
    "# Función con un informe preciso de la misión. Considera hora de prelanzamiento, tiempo de vuelo, destino, tanque externo y tanque interno\n",
    "\n",
    "def informe(prelanzamiento, tiempo_vuelo, destino, tanque_externo, tanque_principal):\n",
    "    return f\"\"\"\n",
    "    Mision espacial a {destino}\n",
    "    Tiempo total de viaje: {prelanzamiento + tiempo_vuelo} minutos\n",
    "    Combustible total: {tanque_externo + tanque_principal} litros\n",
    "    \"\"\"\n",
    "\n",
    "print(informe(5, 10, \"Marte\", 1000000, 200000))"
   ]
  },
  {
   "cell_type": "code",
   "execution_count": 46,
   "metadata": {},
   "outputs": [
    {
     "name": "stdout",
     "output_type": "stream",
     "text": [
      "\n",
      "    Mision espacial a Marte\n",
      "    Tiempo total de viaje: 55 minutos\n",
      "    Combustible total: 300000\n",
      "    \n"
     ]
    }
   ],
   "source": [
    "def informe02(destino, *minutos, **combustible):\n",
    "    return f\"\"\"\n",
    "    Mision espacial a {destino}\n",
    "    Tiempo total de viaje: {sum(minutos)} minutos\n",
    "    Combustible total: {sum(combustible.values())}\n",
    "    \"\"\"\n",
    "\n",
    "print(informe02(\"Marte\", 10, 15, 30, principal=100000, externo=200000))\n"
   ]
  },
  {
   "cell_type": "code",
   "execution_count": 50,
   "metadata": {},
   "outputs": [
    {
     "name": "stdout",
     "output_type": "stream",
     "text": [
      "\n",
      "    Mision espacial a Marte\n",
      "    Tiempo total de viaje: 18 minutos\n",
      "    Combustible total: 300000\n",
      "    tanque interno --> 100000 litros restantes\n",
      "tanque externo --> 200000 litros restantes\n",
      "\n"
     ]
    }
   ],
   "source": [
    "def informe03(destino, *minutos, **combustible):\n",
    "    reporte = f\"\"\"\n",
    "    Mision espacial a {destino}\n",
    "    Tiempo total de viaje: {sum(minutos)} minutos\n",
    "    Combustible total: {sum(combustible.values())}\n",
    "    \"\"\"\n",
    "    for tanque_n, litros in combustible.items():\n",
    "        reporte += f\"tanque {tanque_n} --> {litros} litros restantes\\n\"\n",
    "    return reporte\n",
    "\n",
    "   \n",
    "print(informe03(\"Marte\", 3, 6, 9, interno=100000, externo=200000))"
   ]
  }
 ],
 "metadata": {
  "interpreter": {
   "hash": "60a5fcd371ed8e485403e2901f6bb2d97753dd4e8a3a2f4dfda94e48aa965acb"
  },
  "kernelspec": {
   "display_name": "Python 3.10.0 64-bit",
   "language": "python",
   "name": "python3"
  },
  "language_info": {
   "codemirror_mode": {
    "name": "ipython",
    "version": 3
   },
   "file_extension": ".py",
   "mimetype": "text/x-python",
   "name": "python",
   "nbconvert_exporter": "python",
   "pygments_lexer": "ipython3",
   "version": "3.10.0"
  },
  "orig_nbformat": 4
 },
 "nbformat": 4,
 "nbformat_minor": 2
}
