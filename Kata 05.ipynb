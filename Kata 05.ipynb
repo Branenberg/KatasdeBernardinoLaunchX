{
 "cells": [
  {
   "cell_type": "markdown",
   "metadata": {},
   "source": [
    "# Kata 05"
   ]
  },
  {
   "cell_type": "markdown",
   "metadata": {},
   "source": [
    "## Ejercicio 1"
   ]
  },
  {
   "cell_type": "code",
   "execution_count": 35,
   "metadata": {},
   "outputs": [
    {
     "name": "stdout",
     "output_type": "stream",
     "text": [
      "628949330\n"
     ]
    }
   ],
   "source": [
    "# Comenzaremos usando dos distancias de planetas: Tierra (149.597.870 km) y Júpiter (778.547.200 km).\n",
    "# Crear variables para almacenar las dos distancias\n",
    "# ¡Asegúrate de quitar las comas!\n",
    "\n",
    "Tierra = 149597870\n",
    "Júpiter = 778547200\n",
    "\n",
    "Distancia_Km = Tierra - Júpiter\n",
    "print ( abs (Distancia_Km))\n"
   ]
  },
  {
   "cell_type": "code",
   "execution_count": 40,
   "metadata": {},
   "outputs": [
    {
     "name": "stdout",
     "output_type": "stream",
     "text": [
      "La distancia entre planetas en Millas es igual a 390577533\n"
     ]
    }
   ],
   "source": [
    "# Convertir la distancia del kilómetro en millas multiplicándola por 0.621\n",
    "# Calcular la distancia entre planetas\n",
    "\n",
    "Distancia_Mi = abs (Distancia_Km * 0.621)\n",
    "\n",
    "print (\"La distancia entre planetas en Millas es igual a \" + str( int(Distancia_Mi)))"
   ]
  },
  {
   "cell_type": "markdown",
   "metadata": {},
   "source": [
    "## Ejercicio 2"
   ]
  },
  {
   "cell_type": "code",
   "execution_count": 14,
   "metadata": {},
   "outputs": [],
   "source": [
    "# Almacenar las entradas del usuario\n",
    "#Pista: variable = input(\"¿Cuál es tu nombre?\")\n",
    "# 0 Planeta\tDistancia al sol\n",
    "# 1 Mercurio\t57900000\n",
    "# 2 Venus\t108200000\n",
    "# 3 Tierra\t149600000\n",
    "# 4 Marte\t227900000\n",
    "# 5 Júpiter\t778600000\n",
    "# 6 Saturno\t1433500000\n",
    "# 7 Urano\t2872500000\n",
    "# 8 Neptuno\t4495100000\n",
    "\n",
    "planet01 = input('Distancia al sol del primer planeta: ')\n",
    "planet02 = input('Distancia al sol del segundo planeta:')\n",
    "planet03 = input('Distancia al sol del tercero planeta:')\n",
    "planet04 = input('Distancia al sol del cuarto planeta:')\n",
    "planet05 = input('Distancia al sol del quinto planeta:')\n",
    "planet06 = input('Distancia al sol del sexto  planeta:')\n",
    "planet07 = input('Distancia al sol del séptimo planeta:')\n",
    "planet08 = input('Distancia al sol del octavo planeta:')\n",
    "\n"
   ]
  },
  {
   "cell_type": "code",
   "execution_count": 15,
   "metadata": {},
   "outputs": [],
   "source": [
    "planet01 = int(planet01)\n",
    "planet02 = int(planet02)\n",
    "planet03 = int(planet03)\n",
    "planet04 = int(planet04)\n",
    "planet05 = int(planet05)\n",
    "planet06 = int(planet06)\n",
    "planet07 = int(planet07)\n",
    "planet08 = int(planet08)\n"
   ]
  },
  {
   "cell_type": "code",
   "execution_count": 20,
   "metadata": {},
   "outputs": [
    {
     "name": "stdout",
     "output_type": "stream",
     "text": [
      "50300000\n"
     ]
    }
   ],
   "source": [
    "# Realizar el cálculo y determinar el valor absoluto\n",
    "\n",
    "distance_km = planet01 - planet02\n",
    "print (abs(distance_km))"
   ]
  },
  {
   "cell_type": "code",
   "execution_count": 19,
   "metadata": {},
   "outputs": [
    {
     "name": "stdout",
     "output_type": "stream",
     "text": [
      "31236300.0\n"
     ]
    }
   ],
   "source": [
    "# Convertir de KM a Millas\n",
    "distance_mi = distance_km * 0.621\n",
    "print(abs(distance_mi))"
   ]
  }
 ],
 "metadata": {
  "interpreter": {
   "hash": "60a5fcd371ed8e485403e2901f6bb2d97753dd4e8a3a2f4dfda94e48aa965acb"
  },
  "kernelspec": {
   "display_name": "Python 3.10.0 64-bit",
   "language": "python",
   "name": "python3"
  },
  "language_info": {
   "codemirror_mode": {
    "name": "ipython",
    "version": 3
   },
   "file_extension": ".py",
   "mimetype": "text/x-python",
   "name": "python",
   "nbconvert_exporter": "python",
   "pygments_lexer": "ipython3",
   "version": "3.10.0"
  },
  "orig_nbformat": 4
 },
 "nbformat": 4,
 "nbformat_minor": 2
}
